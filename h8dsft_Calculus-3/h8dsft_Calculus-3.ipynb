{
 "cells": [
  {
   "cell_type": "markdown",
   "id": "e7980394",
   "metadata": {},
   "source": [
    "`Name`: Dia Kurnia Dewi\n",
    "<br>\n",
    "`Batch`: FTDS/6\n",
    "<br>\n",
    "`Nongraded Challenge`: Calculus-3 (Integral)"
   ]
  },
  {
   "cell_type": "markdown",
   "id": "fbd3e213",
   "metadata": {},
   "source": [
    "Hitung integral dari fungsi dibawah ini\n",
    "1. $ \\int (3x^{2} -6x + 3) dx $\n",
    "2. $ \\int (8x^{3} - x^{2} + 5x - 1) dx $"
   ]
  },
  {
   "cell_type": "code",
   "execution_count": 4,
   "id": "e6170e8d",
   "metadata": {},
   "outputs": [],
   "source": [
    "import sympy as sy"
   ]
  },
  {
   "cell_type": "code",
   "execution_count": 3,
   "id": "a6a567e5",
   "metadata": {},
   "outputs": [
    {
     "data": {
      "text/latex": [
       "$\\displaystyle x$"
      ],
      "text/plain": [
       "x"
      ]
     },
     "execution_count": 3,
     "metadata": {},
     "output_type": "execute_result"
    }
   ],
   "source": [
    "x = Symbol('x')\n",
    "x"
   ]
  },
  {
   "cell_type": "markdown",
   "id": "be2804e7",
   "metadata": {},
   "source": [
    "## Soal 1\n",
    "\n",
    "hitung integral dari \n",
    "- $ \\int (3x^{2} -6x + 3) dx $"
   ]
  },
  {
   "cell_type": "code",
   "execution_count": 5,
   "id": "f71d53e0",
   "metadata": {},
   "outputs": [
    {
     "data": {
      "text/latex": [
       "$\\displaystyle x^{3} - 3 x^{2} + 3 x$"
      ],
      "text/plain": [
       "x**3 - 3*x**2 + 3*x"
      ]
     },
     "execution_count": 5,
     "metadata": {},
     "output_type": "execute_result"
    }
   ],
   "source": [
    "int1  = sy.integrate(3*x**2 - 6*x + 3)\n",
    "int1"
   ]
  },
  {
   "cell_type": "markdown",
   "id": "5bc7dcca",
   "metadata": {},
   "source": [
    "## Soal 1\n",
    "\n",
    "hitung integral dari \n",
    "- $ \\int (8x^{3} - x^{2} + 5x - 1) dx $"
   ]
  },
  {
   "cell_type": "code",
   "execution_count": 7,
   "id": "3b45b7e4",
   "metadata": {},
   "outputs": [
    {
     "data": {
      "text/latex": [
       "$\\displaystyle 2 x^{4} - \\frac{x^{3}}{3} + \\frac{5 x^{2}}{2} - x$"
      ],
      "text/plain": [
       "2*x**4 - x**3/3 + 5*x**2/2 - x"
      ]
     },
     "execution_count": 7,
     "metadata": {},
     "output_type": "execute_result"
    }
   ],
   "source": [
    "int2 = sy.integrate(8*x**3 - x**2 + 5*x - 1)\n",
    "int2"
   ]
  },
  {
   "cell_type": "code",
   "execution_count": null,
   "id": "4d6b73da",
   "metadata": {},
   "outputs": [],
   "source": []
  }
 ],
 "metadata": {
  "kernelspec": {
   "display_name": "Python 3 (ipykernel)",
   "language": "python",
   "name": "python3"
  },
  "language_info": {
   "codemirror_mode": {
    "name": "ipython",
    "version": 3
   },
   "file_extension": ".py",
   "mimetype": "text/x-python",
   "name": "python",
   "nbconvert_exporter": "python",
   "pygments_lexer": "ipython3",
   "version": "3.9.5"
  }
 },
 "nbformat": 4,
 "nbformat_minor": 5
}
