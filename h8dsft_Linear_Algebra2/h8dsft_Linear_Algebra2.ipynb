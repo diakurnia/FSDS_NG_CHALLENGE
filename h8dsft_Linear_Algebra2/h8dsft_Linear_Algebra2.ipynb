{
 "cells": [
  {
   "cell_type": "markdown",
   "id": "dcd93198",
   "metadata": {},
   "source": [
    "## Introduction\n",
    "- Name : Dia Kurnia Dewi\n",
    "- Batch : 6\n",
    "- Ng Challenge : Linear Algebra 1"
   ]
  },
  {
   "cell_type": "code",
   "execution_count": 21,
   "id": "e41feac3",
   "metadata": {},
   "outputs": [],
   "source": [
    "import numpy as np\n",
    "import matplotlib.pyplot as plt"
   ]
  },
  {
   "cell_type": "markdown",
   "id": "6433e3fe",
   "metadata": {},
   "source": [
    "##### 1. Apakah $$\\begin{bmatrix} 1 \\\\ 3  \\end{bmatrix}$$  adalah eigen vector dari $$\\begin{bmatrix} 1 & -1  \\\\ 6 & -4  \\end{bmatrix}$$  Jika Iya, berapakah eigen value-nya?\n"
   ]
  },
  {
   "cell_type": "code",
   "execution_count": 36,
   "id": "351d054e",
   "metadata": {},
   "outputs": [],
   "source": [
    "A = np.array([[1, -1],[6, -4]])"
   ]
  },
  {
   "cell_type": "code",
   "execution_count": 43,
   "id": "67fa7993",
   "metadata": {},
   "outputs": [
    {
     "data": {
      "text/plain": [
       "(array([-1., -2.]),\n",
       " array([[0.4472136 , 0.31622777],\n",
       "        [0.89442719, 0.9486833 ]]))"
      ]
     },
     "execution_count": 43,
     "metadata": {},
     "output_type": "execute_result"
    }
   ],
   "source": [
    "# get eigen value\n",
    "np.linalg.eig(A)"
   ]
  },
  {
   "cell_type": "code",
   "execution_count": 45,
   "id": "46577966",
   "metadata": {},
   "outputs": [
    {
     "data": {
      "text/plain": [
       "array([-2, -6])"
      ]
     },
     "execution_count": 45,
     "metadata": {},
     "output_type": "execute_result"
    }
   ],
   "source": [
    "eVector = np.array([1,3])\n",
    "eigensDot = np.dot(A, eV)\n",
    "eValue = \n"
   ]
  },
  {
   "cell_type": "code",
   "execution_count": 30,
   "id": "27511c6d",
   "metadata": {},
   "outputs": [],
   "source": [
    "def plotVectors(vecs, cols, alpha=1):\n",
    "    \"\"\"\n",
    "    Plot set of vectors.\n",
    "\n",
    "    Parameters\n",
    "    ----------\n",
    "    vecs : array-like\n",
    "        Coordinates of the vectors to plot. Each vectors is in an array. For\n",
    "        instance: [[1, 3], [2, 2]] can be used to plot 2 vectors.\n",
    "    cols : array-like\n",
    "        Colors of the vectors. For instance: ['red', 'blue'] will display the\n",
    "        first vector in red and the second in blue.\n",
    "    alpha : float\n",
    "        Opacity of vectors\n",
    "\n",
    "    Returns:\n",
    "\n",
    "    fig : instance of matplotlib.figure.Figure\n",
    "        The figure of the vectors\n",
    "    \"\"\"\n",
    "    plt.axvline(x=0, color='#A9A9A9', zorder=0)\n",
    "    plt.axhline(y=0, color='#A9A9A9', zorder=0)\n",
    "\n",
    "    for i in range(len(vecs)):\n",
    "        if (isinstance(alpha, list)):\n",
    "            alpha_i = alpha[i]\n",
    "        else:\n",
    "            alpha_i = alpha\n",
    "        x = np.concatenate([[0,0],vecs[i]])\n",
    "        plt.quiver([x[0]],\n",
    "                   [x[1]],\n",
    "                   [x[2]],\n",
    "                   [x[3]],\n",
    "                   angles='xy', scale_units='xy', scale=1, color=cols[i],\n",
    "                  alpha=alpha_i)"
   ]
  },
  {
   "cell_type": "code",
   "execution_count": 42,
   "id": "a0f1f18a",
   "metadata": {},
   "outputs": [
    {
     "data": {
      "text/plain": [
       "(-3.0, 5.0)"
      ]
     },
     "execution_count": 42,
     "metadata": {},
     "output_type": "execute_result"
    },
    {
     "data": {
      "image/png": "[encoded data removed]",
      "text/plain": [
       "<Figure size 432x288 with 1 Axes>"
      ]
     },
     "metadata": {
      "needs_background": "light"
     },
     "output_type": "display_data"
    }
   ],
   "source": [
    "v = np.array([[1], [3]])\n",
    "Av = A.dot(v)\n",
    "v_np = [0.31622777, 0.9486833]\n",
    "\n",
    "plotVectors([Av.flatten(), v.flatten(), v_np], cols=['red', 'green', 'blue'])\n",
    "plt.ylim(-7, 5)\n",
    "plt.xlim(-3, 5)"
   ]
  },
  {
   "cell_type": "code",
   "execution_count": null,
   "id": "a57ad04c",
   "metadata": {},
   "outputs": [],
   "source": []
  }
 ],
 "metadata": {
  "kernelspec": {
   "display_name": "Python 3 (ipykernel)",
   "language": "python",
   "name": "python3"
  },
  "language_info": {
   "codemirror_mode": {
    "name": "ipython",
    "version": 3
   },
   "file_extension": ".py",
   "mimetype": "text/x-python",
   "name": "python",
   "nbconvert_exporter": "python",
   "pygments_lexer": "ipython3",
   "version": "3.9.5"
  }
 },
 "nbformat": 4,
 "nbformat_minor": 5
}
