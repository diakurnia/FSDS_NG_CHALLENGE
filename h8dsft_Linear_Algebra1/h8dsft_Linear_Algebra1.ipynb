{
 "cells": [
  {
   "cell_type": "markdown",
   "id": "05b36714",
   "metadata": {},
   "source": [
    "## Introduction\n",
    "- Name : Dia Kurnia Dewi\n",
    "- Batch : 6\n",
    "- Ng Challenge : Linear Algebra 1"
   ]
  },
  {
   "cell_type": "code",
   "execution_count": 45,
   "id": "418f21a5",
   "metadata": {},
   "outputs": [],
   "source": [
    "# import package\n",
    "import numpy as np\n",
    "import matplotlib.pyplot as plt"
   ]
  },
  {
   "cell_type": "markdown",
   "id": "9dcae84c",
   "metadata": {},
   "source": [
    "### 1. Buatlah vektor dibawah ini dengan Python \n",
    "- (17, 22, 19)\n"
   ]
  },
  {
   "cell_type": "code",
   "execution_count": 35,
   "id": "c2dfd302",
   "metadata": {},
   "outputs": [
    {
     "data": {
      "text/plain": [
       "array([17, 22, 19])"
      ]
     },
     "execution_count": 35,
     "metadata": {},
     "output_type": "execute_result"
    }
   ],
   "source": [
    "a = [17, 22, 19]\n",
    "A = np.array(a)\n",
    "A"
   ]
  },
  {
   "cell_type": "markdown",
   "id": "b8881317",
   "metadata": {},
   "source": [
    "### 2. Diberikan 3 buah vector 3 dimensi:\n",
    "- 𝑨= (17, 22, 19)\n",
    "- 𝑩= (10, 20, 11)\n",
    "- 𝑪= (5, 12, 9)\n",
    "\n",
    "Hitunglah:\n",
    "- A + B\n",
    "- B - C\n",
    "- A dot C\n",
    "- A x B\n",
    "- norm A\n",
    "- Sudut antara vektorA dan B\n"
   ]
  },
  {
   "cell_type": "code",
   "execution_count": 36,
   "id": "3c1f97aa",
   "metadata": {},
   "outputs": [],
   "source": [
    "# define array A,B,C\n",
    "A = np.array([17,22,19])\n",
    "B = np.array([10,20,11])\n",
    "C = np.array([5,12,9])"
   ]
  },
  {
   "cell_type": "code",
   "execution_count": 37,
   "id": "55f8c08b",
   "metadata": {},
   "outputs": [
    {
     "data": {
      "text/plain": [
       "array([27, 42, 30])"
      ]
     },
     "execution_count": 37,
     "metadata": {},
     "output_type": "execute_result"
    }
   ],
   "source": [
    "# A + B\n",
    "A + B"
   ]
  },
  {
   "cell_type": "code",
   "execution_count": 38,
   "id": "9232b8ec",
   "metadata": {},
   "outputs": [
    {
     "data": {
      "text/plain": [
       "array([5, 8, 2])"
      ]
     },
     "execution_count": 38,
     "metadata": {},
     "output_type": "execute_result"
    }
   ],
   "source": [
    "# B - C\n",
    "B - C"
   ]
  },
  {
   "cell_type": "code",
   "execution_count": 39,
   "id": "18826229",
   "metadata": {},
   "outputs": [
    {
     "data": {
      "text/plain": [
       "520"
      ]
     },
     "execution_count": 39,
     "metadata": {},
     "output_type": "execute_result"
    }
   ],
   "source": [
    "# A dot C (Matrix multiplication)\n",
    "np.dot(A,C)"
   ]
  },
  {
   "cell_type": "code",
   "execution_count": 40,
   "id": "f8e0d53a",
   "metadata": {},
   "outputs": [
    {
     "data": {
      "text/plain": [
       "array([ 85, 264, 171])"
      ]
     },
     "execution_count": 40,
     "metadata": {},
     "output_type": "execute_result"
    }
   ],
   "source": [
    "# A * C\n",
    "A * C"
   ]
  },
  {
   "cell_type": "code",
   "execution_count": 41,
   "id": "8271613c",
   "metadata": {},
   "outputs": [
    {
     "data": {
      "text/plain": [
       "33.67491648096547"
      ]
     },
     "execution_count": 41,
     "metadata": {},
     "output_type": "execute_result"
    }
   ],
   "source": [
    "# norm A\n",
    "np.linalg.norm(A)"
   ]
  },
  {
   "cell_type": "code",
   "execution_count": 42,
   "id": "622d93d3",
   "metadata": {},
   "outputs": [],
   "source": [
    "# sudut antara vektor A dan B\n",
    "def angle_between(v1, v2):\n",
    "    '''Dot product between v1 and v2'''\n",
    "    dot_product = np.dot(v1, v2)\n",
    "    \n",
    "    '''define norm v1 and v2'''\n",
    "    norm_v1 = np.linalg.norm(v1)\n",
    "    norm_v2 = np.linalg.norm(v2)\n",
    "    \n",
    "    '''get result'''\n",
    "    result = np.arccos(dot_product/(norm_v1 * norm_v2))\n",
    "\n",
    "    return result"
   ]
  },
  {
   "cell_type": "code",
   "execution_count": 43,
   "id": "0d88b6d4",
   "metadata": {},
   "outputs": [
    {
     "data": {
      "text/plain": [
       "0.21971776576153962"
      ]
     },
     "execution_count": 43,
     "metadata": {},
     "output_type": "execute_result"
    }
   ],
   "source": [
    "angle_between(A,B)"
   ]
  },
  {
   "cell_type": "markdown",
   "id": "8b77afaf",
   "metadata": {},
   "source": [
    "### 3. Buatlah plot dari vector berikut ini kedalam bidang 2D:\n",
    "- 𝒖= (2, 5)\n",
    "- 𝒗= (3, 1)\n"
   ]
  },
  {
   "cell_type": "code",
   "execution_count": 46,
   "id": "e15f19d0",
   "metadata": {},
   "outputs": [],
   "source": [
    "u = np.array([2, 5])\n",
    "v = np.array([3, 1])"
   ]
  },
  {
   "cell_type": "code",
   "execution_count": 47,
   "id": "4c206c61",
   "metadata": {},
   "outputs": [],
   "source": [
    "def plot_vector2d(vector2d, origin=[0, 0], **options):\n",
    "    return plt.arrow(origin[0], origin[1], vector2d[0], vector2d[1],\n",
    "              head_width=0.2, head_length=0.3, length_includes_head=True,\n",
    "              **options)"
   ]
  },
  {
   "cell_type": "code",
   "execution_count": 49,
   "id": "91d47310",
   "metadata": {},
   "outputs": [
    {
     "data": {
      "image/png": "[encoded data removed]",
      "text/plain": [
       "<Figure size 432x288 with 1 Axes>"
      ]
     },
     "metadata": {
      "needs_background": "light"
     },
     "output_type": "display_data"
    }
   ],
   "source": [
    "plot_vector2d(u, color=\"g\")\n",
    "plot_vector2d(v, color=\"b\")\n",
    "plt.axis([0, 9, 0, 6])\n",
    "plt.grid()\n",
    "plt.show()"
   ]
  },
  {
   "cell_type": "code",
   "execution_count": null,
   "id": "4e071d08",
   "metadata": {},
   "outputs": [],
   "source": []
  }
 ],
 "metadata": {
  "kernelspec": {
   "display_name": "Python 3 (ipykernel)",
   "language": "python",
   "name": "python3"
  },
  "language_info": {
   "codemirror_mode": {
    "name": "ipython",
    "version": 3
   },
   "file_extension": ".py",
   "mimetype": "text/x-python",
   "name": "python",
   "nbconvert_exporter": "python",
   "pygments_lexer": "ipython3",
   "version": "3.9.5"
  }
 },
 "nbformat": 4,
 "nbformat_minor": 5
}
