{
 "cells": [
  {
   "cell_type": "markdown",
   "id": "453f8df5",
   "metadata": {},
   "source": [
    "`Name`: Dia Kurnia Dewi\n",
    "<br>\n",
    "`Batch`: FTDS/6\n",
    "<br>\n",
    "`Nongraded Challenge`: Calculus 1"
   ]
  },
  {
   "cell_type": "markdown",
   "id": "d93268ab",
   "metadata": {},
   "source": [
    " Carilah turunan dari fungsi\n",
    " 1. $ y = x^{2} + 2x + 1$\n",
    " 2. $ y = 4x^{3} - 3x^{2} + 2x - 1$\n",
    "\n"
   ]
  },
  {
   "cell_type": "code",
   "execution_count": 2,
   "id": "26153565",
   "metadata": {},
   "outputs": [],
   "source": [
    "import sympy as sy"
   ]
  },
  {
   "cell_type": "code",
   "execution_count": 5,
   "id": "e1e6be86",
   "metadata": {},
   "outputs": [],
   "source": [
    "x = sy.Symbol('x')"
   ]
  },
  {
   "cell_type": "markdown",
   "id": "14b77599",
   "metadata": {},
   "source": [
    "## 1. $ y = x^{2} + 2x + 1$"
   ]
  },
  {
   "cell_type": "code",
   "execution_count": 8,
   "id": "f9dff015",
   "metadata": {},
   "outputs": [
    {
     "data": {
      "text/latex": [
       "$\\displaystyle 2 x + 2$"
      ],
      "text/plain": [
       "2*x + 2"
      ]
     },
     "execution_count": 8,
     "metadata": {},
     "output_type": "execute_result"
    }
   ],
   "source": [
    "df1 = sy.diff(x**2 + 2*x +1)\n",
    "df1"
   ]
  },
  {
   "cell_type": "markdown",
   "id": "8852f56a",
   "metadata": {},
   "source": [
    "##  2. $ y = 4x^{3} - 3x^{2} + 2x - 1$"
   ]
  },
  {
   "cell_type": "code",
   "execution_count": null,
   "id": "bd2ae347",
   "metadata": {},
   "outputs": [],
   "source": [
    "df2 = sy.diff(4*x**3 - 3*x**)"
   ]
  }
 ],
 "metadata": {
  "kernelspec": {
   "display_name": "Python 3 (ipykernel)",
   "language": "python",
   "name": "python3"
  },
  "language_info": {
   "codemirror_mode": {
    "name": "ipython",
    "version": 3
   },
   "file_extension": ".py",
   "mimetype": "text/x-python",
   "name": "python",
   "nbconvert_exporter": "python",
   "pygments_lexer": "ipython3",
   "version": "3.9.5"
  }
 },
 "nbformat": 4,
 "nbformat_minor": 5
}
