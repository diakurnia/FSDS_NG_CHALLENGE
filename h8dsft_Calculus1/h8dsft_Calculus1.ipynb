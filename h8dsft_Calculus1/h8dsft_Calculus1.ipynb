{
 "cells": [
  {
   "cell_type": "markdown",
   "id": "d361ad8e",
   "metadata": {},
   "source": [
    "`Name`: Dia Kurnia Dewi\n",
    "<br>\n",
    "`Batch`: FTDS/6\n",
    "<br>\n",
    "`Nongraded Challenge`: Calculus 1"
   ]
  },
  {
   "cell_type": "markdown",
   "id": "0f4b10b8",
   "metadata": {},
   "source": [
    " Carilah turunan dari fungsi\n",
    " 1. $ y = x^{2} + 2x + 1$\n",
    " 2. $ y = 4x^{3} - 3x^{2} + 2x - 1$\n",
    "\n"
   ]
  },
  {
   "cell_type": "code",
   "execution_count": 2,
   "id": "d22e4dee",
   "metadata": {},
   "outputs": [],
   "source": [
    "import sympy as sy"
   ]
  },
  {
   "cell_type": "code",
   "execution_count": 5,
   "id": "089870fc",
   "metadata": {},
   "outputs": [],
   "source": [
    "x = sy.Symbol('x')"
   ]
  },
  {
   "cell_type": "markdown",
   "id": "f51e6bfb",
   "metadata": {},
   "source": [
    "## 1. $ y = x^{2} + 2x + 1$"
   ]
  },
  {
   "cell_type": "code",
   "execution_count": 8,
   "id": "32c38f0b",
   "metadata": {},
   "outputs": [
    {
     "data": {
      "text/latex": [
       "$\\displaystyle 2 x + 2$"
      ],
      "text/plain": [
       "2*x + 2"
      ]
     },
     "execution_count": 8,
     "metadata": {},
     "output_type": "execute_result"
    }
   ],
   "source": [
    "df1 = sy.diff(x**2 + 2*x +1)\n",
    "df1"
   ]
  },
  {
   "cell_type": "markdown",
   "id": "8810f12c",
   "metadata": {},
   "source": [
    "##  2. $ y = 4x^{3} - 3x^{2} + 2x - 1$"
   ]
  },
  {
   "cell_type": "code",
   "execution_count": 10,
   "id": "7f4c6b88",
   "metadata": {},
   "outputs": [
    {
     "data": {
      "text/latex": [
       "$\\displaystyle 12 x^{2} - 6 x + 2$"
      ],
      "text/plain": [
       "12*x**2 - 6*x + 2"
      ]
     },
     "execution_count": 10,
     "metadata": {},
     "output_type": "execute_result"
    }
   ],
   "source": [
    "df2 = sy.diff(4*x**3 - 3*x**2 + 2*x - 1)\n",
    "df2"
   ]
  },
  {
   "cell_type": "code",
   "execution_count": null,
   "id": "b80a14f7",
   "metadata": {},
   "outputs": [],
   "source": []
  }
 ],
 "metadata": {
  "kernelspec": {
   "display_name": "Python 3 (ipykernel)",
   "language": "python",
   "name": "python3"
  },
  "language_info": {
   "codemirror_mode": {
    "name": "ipython",
    "version": 3
   },
   "file_extension": ".py",
   "mimetype": "text/x-python",
   "name": "python",
   "nbconvert_exporter": "python",
   "pygments_lexer": "ipython3",
   "version": "3.9.5"
  }
 },
 "nbformat": 4,
 "nbformat_minor": 5
}
