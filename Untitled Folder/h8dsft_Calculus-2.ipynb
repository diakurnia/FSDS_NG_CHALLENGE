{
 "cells": [
  {
   "cell_type": "markdown",
   "id": "99653e83",
   "metadata": {},
   "source": [
    "`Name`: Dia Kurnia Dewi\n",
    "<br>\n",
    "`Batch`: FTDS/6\n",
    "<br>\n",
    "`Nongraded Challenge`: Calculus 2"
   ]
  },
  {
   "cell_type": "code",
   "execution_count": 1,
   "id": "6fc6b007",
   "metadata": {},
   "outputs": [],
   "source": [
    "import sympy as sym\n",
    "from sympy.tensor.array import derive_by_array"
   ]
  },
  {
   "cell_type": "markdown",
   "id": "b8f64ecf",
   "metadata": {},
   "source": [
    "Hitung gradien dari fungsi dibawah ini\n",
    "- $3x + 4y = 5$"
   ]
  },
  {
   "cell_type": "code",
   "execution_count": 4,
   "id": "3ff7d92d",
   "metadata": {},
   "outputs": [],
   "source": [
    "x, y = sym.symbols('x y')"
   ]
  },
  {
   "cell_type": "code",
   "execution_count": null,
   "id": "fe14cdc7",
   "metadata": {},
   "outputs": [],
   "source": []
  }
 ],
 "metadata": {
  "kernelspec": {
   "display_name": "Python 3 (ipykernel)",
   "language": "python",
   "name": "python3"
  },
  "language_info": {
   "codemirror_mode": {
    "name": "ipython",
    "version": 3
   },
   "file_extension": ".py",
   "mimetype": "text/x-python",
   "name": "python",
   "nbconvert_exporter": "python",
   "pygments_lexer": "ipython3",
   "version": "3.9.5"
  }
 },
 "nbformat": 4,
 "nbformat_minor": 5
}
