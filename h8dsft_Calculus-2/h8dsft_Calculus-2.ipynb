{
 "cells": [
  {
   "cell_type": "markdown",
   "id": "37613c8f",
   "metadata": {},
   "source": [
    "`Name`: Dia Kurnia Dewi\n",
    "<br>\n",
    "`Batch`: FTDS/6\n",
    "<br>\n",
    "`Nongraded Challenge`: Calculus 2"
   ]
  },
  {
   "cell_type": "code",
   "execution_count": 1,
   "id": "53f98904",
   "metadata": {},
   "outputs": [],
   "source": [
    "import sympy as sym\n",
    "from sympy.tensor.array import derive_by_array"
   ]
  },
  {
   "cell_type": "markdown",
   "id": "72ae26f9",
   "metadata": {},
   "source": [
    "Hitung gradien dari fungsi dibawah ini\n",
    "- $3x + 4y = 5$"
   ]
  },
  {
   "cell_type": "markdown",
   "id": "63967963",
   "metadata": {},
   "source": [
    "ubah persamaan menjadi \n",
    "$3x + 4y - 5 = 0$"
   ]
  },
  {
   "cell_type": "code",
   "execution_count": 4,
   "id": "53bd053c",
   "metadata": {},
   "outputs": [],
   "source": [
    "x, y = sym.symbols('x y')"
   ]
  },
  {
   "cell_type": "code",
   "execution_count": 7,
   "id": "dc12ec3c",
   "metadata": {},
   "outputs": [
    {
     "data": {
      "text/latex": [
       "$\\displaystyle 3 x + 4 y - 5$"
      ],
      "text/plain": [
       "3*x + 4*y - 5"
      ]
     },
     "execution_count": 7,
     "metadata": {},
     "output_type": "execute_result"
    }
   ],
   "source": [
    "f = 3*x + 4*y - 5\n",
    "f"
   ]
  },
  {
   "cell_type": "code",
   "execution_count": 8,
   "id": "bee5248f",
   "metadata": {},
   "outputs": [
    {
     "data": {
      "text/latex": [
       "$\\displaystyle \\left[\\begin{matrix}3 & 4\\end{matrix}\\right]$"
      ],
      "text/plain": [
       "[3, 4]"
      ]
     },
     "execution_count": 8,
     "metadata": {},
     "output_type": "execute_result"
    }
   ],
   "source": [
    "# menghitung gradient\n",
    "grad = derive_by_array(f, (x, y))\n",
    "grad"
   ]
  },
  {
   "cell_type": "code",
   "execution_count": null,
   "id": "24407e49",
   "metadata": {},
   "outputs": [],
   "source": []
  }
 ],
 "metadata": {
  "kernelspec": {
   "display_name": "Python 3 (ipykernel)",
   "language": "python",
   "name": "python3"
  },
  "language_info": {
   "codemirror_mode": {
    "name": "ipython",
    "version": 3
   },
   "file_extension": ".py",
   "mimetype": "text/x-python",
   "name": "python",
   "nbconvert_exporter": "python",
   "pygments_lexer": "ipython3",
   "version": "3.9.5"
  }
 },
 "nbformat": 4,
 "nbformat_minor": 5
}
