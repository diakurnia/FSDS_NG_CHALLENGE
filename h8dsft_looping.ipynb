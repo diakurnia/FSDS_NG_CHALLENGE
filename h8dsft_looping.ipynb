{
 "cells": [
  {
   "cell_type": "markdown",
   "id": "0dfd0fa2",
   "metadata": {},
   "source": [
    "## Assignment Instructions\n",
    "\n",
    "- Buatlah sebuah list dengan value berupa:\n",
    "\n",
    "  ```py\n",
    "    numbers = [\n",
    "    951, 402, 984, 651, 360, 69, 408, 319, 601, 485, 980, 507, 725, 547, 544, 615, 83, 165, 141, 501, 263, 617, 865, 575, 219, 390, 984, 592, 236, 105, 942, 941, 386, 462, 47, 418, 907, 344, 236, 375, 823, 566, 597, 978, 328, 615, 953, 345, 399, 162, 758, 219, 918, 237, 412, 566, 826, 248, 866, 950, 626, 949\n",
    "    ]\n",
    "  ```\n",
    "\n",
    "- Loop dan print semua angka genap dari list angka diatas dengan urutan yang sama. Jangan mencetak angka apa pun yang muncul setelah angka 918.\n",
    "- Tampilkan pesan 'Done' setelah looping berakhir."
   ]
  },
  {
   "cell_type": "code",
   "execution_count": 4,
   "id": "dec8a1d1",
   "metadata": {},
   "outputs": [],
   "source": [
    "numbers = [\n",
    "  951, 402, 984, 651, 360, 69, 408, 319, 601, 485, 980, 507, 725, 547, 544, 615, 83, 165, 141, 501, 263, 617, 865, 575, 219, 390, 984, 592, 236, 105, 942, 941, 386, 462, 47, 418, 907, 344, 236, 375, 823, 566, 597, 978, 328, 615, 953, 345, 399, 162, 758, 219, 918, 237, 412, 566, 826, 248, 866, 950, 626, 949\n",
    "  ]"
   ]
  },
  {
   "cell_type": "code",
   "execution_count": 5,
   "id": "8bf389d7",
   "metadata": {},
   "outputs": [
    {
     "name": "stdout",
     "output_type": "stream",
     "text": [
      "402 360 408 544 390 592 236 386 462 418 344 236 566 328 162 758 918 412 566 826 248 866 626 "
     ]
    }
   ],
   "source": [
    "# Case ketika hanya memilih angka genap dan angka yang lebih besar dari 918\n",
    "for number in numbers:\n",
    "    if (number % 2 == 0 and number <= 918):\n",
    "        print(number, end = ' ')"
   ]
  },
  {
   "cell_type": "code",
   "execution_count": 7,
   "id": "7f15bb1d",
   "metadata": {},
   "outputs": [
    {
     "name": "stdout",
     "output_type": "stream",
     "text": [
      "402 984 360 408 980 544 390 984 592 236 942 386 462 418 344 236 566 978 328 162 758 918 "
     ]
    }
   ],
   "source": [
    "# case ketika memilih angka genap dan berhenti ketika bertemu angka 918\n",
    "for number in numbers:\n",
    "    if number % 2 == 0:\n",
    "        print(number, end = ' ')\n",
    "        if (number == 918):\n",
    "            break"
   ]
  },
  {
   "cell_type": "code",
   "execution_count": null,
   "id": "5cd8d580",
   "metadata": {},
   "outputs": [],
   "source": []
  }
 ],
 "metadata": {
  "kernelspec": {
   "display_name": "Python 3 (ipykernel)",
   "language": "python",
   "name": "python3"
  },
  "language_info": {
   "codemirror_mode": {
    "name": "ipython",
    "version": 3
   },
   "file_extension": ".py",
   "mimetype": "text/x-python",
   "name": "python",
   "nbconvert_exporter": "python",
   "pygments_lexer": "ipython3",
   "version": "3.9.5"
  }
 },
 "nbformat": 4,
 "nbformat_minor": 5
}
